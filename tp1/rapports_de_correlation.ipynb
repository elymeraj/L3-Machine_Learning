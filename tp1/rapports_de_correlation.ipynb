{
 "cells": [
  {
   "cell_type": "code",
   "execution_count": null,
   "metadata": {},
   "outputs": [],
   "source": [
    "def rapport_corr(cible,data): #fonction qui calcule le rapport de corrélation\n",
    "    #cible : 1 variable qualitative\n",
    "    #data : un DataFrame qui contient des variables quantitatives\n",
    "    #moyenne par variable\n",
    "    m=data.mean()\n",
    "    #SCT : variabilité totale = nbre d'ind*variance\n",
    "    SCT=data.shape[0]*data.var(ddof=0)\n",
    "    #DataFrame conditionnellement aux groupes\n",
    "    Xb=data.groupby(cible)\n",
    "    #effectifs conditionnels\n",
    "    nk=Xb.size()\n",
    "    #moyennes conditionnelles dans chaque groupe\n",
    "    mk=Xb.mean()\n",
    "    #pour chaque groupe écart à la moyenne par variable\n",
    "    EMk=(mk-m)**2\n",
    "    #pondéré par les effectifs du groupe\n",
    "    EM=EMk.multiply(nk,axis=0)\n",
    "    #somme des valeurs\n",
    "    SCE=np.sum(EM,axis=0)\n",
    "    #carré du rapport de corrélation\n",
    "    R2=SCE/SCT\n",
    "    R2trie=R2.sort_values(ascending=False)\n",
    "    print(R2trie)\n",
    "    print(R2trie.index)\n",
    "    plt.bar(range(1,R2trie.shape[0]+1),height=R2trie)\n",
    "    return R2"
   ]
  },
  {
   "cell_type": "code",
   "execution_count": null,
   "metadata": {},
   "outputs": [],
   "source": [
    "matcor=X.corr() #que entre variables quantitatives\n",
    "nbrevarexp=X.shape[1]\n",
    "listevarexp=X.columns\n",
    "corrligne=pd.DataFrame(columns=[\"corr\",\"abscorr\",\"nom1\",\"nom2\"],index=range(0,nbrevarexp*(nbrevarexp-1)//2))\n",
    "val=0\n",
    "for i in range(0,nbrevarexp-1):\n",
    "    for j in range(i+1,nbrevarexp):\n",
    "        corrligne[\"corr\"][val]=matcor[listevarexp[i]][listevarexp[j]]\n",
    "        corrligne[\"abscorr\"][val]=abs(matcor[listevarexp[i]][listevarexp[j]])\n",
    "        corrligne[\"nom1\"][val]=listevarexp[i]\n",
    "        corrligne[\"nom2\"][val]=listevarexp[j]\n",
    "        val+=1\n",
    "corr=corrligne.sort_values(by=\"abscorr\",ascending=False)\n",
    "print(corr)"
   ]
  },
  {
   "cell_type": "code",
   "execution_count": null,
   "metadata": {},
   "outputs": [],
   "source": [
    "import scipy.stats as ss\n",
    "def cramers_v(x, y):#fonction qui calcule le V de cramer entre 2 variables qualitatives\n",
    "    #x,y : vecteurs contenant une var quali\n",
    "    confusion_matrix = pd.crosstab(x,y)\n",
    "    chi2 = ss.chi2_contingency(confusion_matrix)[0]\n",
    "    n = confusion_matrix.sum().sum()\n",
    "    phi2 = chi2/n\n",
    "    r,k = confusion_matrix.shape\n",
    "    phi2corr = max(0, phi2-((k-1)*(r-1))/(n-1))\n",
    "    rcorr = r-((r-1)**2)/(n-1)\n",
    "    kcorr = k-((k-1)**2)/(n-1)\n",
    "    return np.sqrt(phi2corr/min((kcorr-1),(rcorr-1)))"
   ]
  }
 ],
 "metadata": {
  "kernelspec": {
   "display_name": "Python 3 (ipykernel)",
   "language": "python",
   "name": "python3"
  },
  "language_info": {
   "codemirror_mode": {
    "name": "ipython",
    "version": 3
   },
   "file_extension": ".py",
   "mimetype": "text/x-python",
   "name": "python",
   "nbconvert_exporter": "python",
   "pygments_lexer": "ipython3",
   "version": "3.9.13"
  }
 },
 "nbformat": 4,
 "nbformat_minor": 4
}
